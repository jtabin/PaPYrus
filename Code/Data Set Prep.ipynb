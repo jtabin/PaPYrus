{
 "cells": [
  {
   "cell_type": "code",
   "execution_count": 1,
   "id": "f655e73b",
   "metadata": {},
   "outputs": [],
   "source": [
    "# importing modules\n",
    "import os\n",
    "import pandas as pd\n",
    "from PIL import Image\n",
    "import numpy as np\n",
    "import matplotlib.pyplot as plt"
   ]
  },
  {
   "cell_type": "markdown",
   "id": "125a64f9",
   "metadata": {},
   "source": [
    "# Creating and saving metrics for the master dataset"
   ]
  },
  {
   "cell_type": "code",
   "execution_count": 2,
   "id": "2a20d0f8",
   "metadata": {},
   "outputs": [],
   "source": [
    "# make a new folder for dataset metrics\n",
    "new_folder = '/Users/.../' # can name the file whatever you want\n",
    "if not os.path.exists(new_folder):  \n",
    "            os.mkdir(new_folder)"
   ]
  },
  {
   "cell_type": "code",
   "execution_count": 3,
   "id": "ddc0666b",
   "metadata": {},
   "outputs": [
    {
     "name": "stdout",
     "output_type": "stream",
     "text": [
      "<bound method NDFrame.head of                          Image\n",
      "0           A12_0001_1_1_4.png\n",
      "1           A12_0001_1_1_5.png\n",
      "2           A12_0001_2_4_1.png\n",
      "3           A12_0001_3_4_1.png\n",
      "4           A12_0002_1_1_5.png\n",
      "...                        ...\n",
      "13128        Z9_0006_3_4_1.png\n",
      "13129        Z9_0007_1_2_7.png\n",
      "13130    Z9_N31_0001_1_1_2.png\n",
      "13131    Z9_N31_0001_3_1_2.png\n",
      "13132  Z9_Z1_A1_0001_1_1_4.png\n",
      "\n",
      "[13133 rows x 1 columns]>\n"
     ]
    }
   ],
   "source": [
    "# make list of image file names for whole dataset\n",
    "dataset = '/Users/.../' # the whole data set (\"Dataset Whole\")\n",
    "datalist_raw = sorted(os.listdir(dataset))\n",
    "if '.DS_Store' in filename:\n",
    "        filename.remove('.DS_Store')\n",
    "datalist = pd.DataFrame(datalist_raw)\n",
    "datalist = datalist.rename(columns={0: \"Image\"})\n",
    "print(datalist.head)"
   ]
  },
  {
   "cell_type": "code",
   "execution_count": 4,
   "id": "ae749091",
   "metadata": {},
   "outputs": [
    {
     "name": "stdout",
     "output_type": "stream",
     "text": [
      "<bound method NDFrame.head of                          Image  SignCode\n",
      "0           A12_0001_1_1_4.png       A12\n",
      "1           A12_0001_1_1_5.png       A12\n",
      "2           A12_0001_2_4_1.png       A12\n",
      "3           A12_0001_3_4_1.png       A12\n",
      "4           A12_0002_1_1_5.png       A12\n",
      "...                        ...       ...\n",
      "13128        Z9_0006_3_4_1.png        Z9\n",
      "13129        Z9_0007_1_2_7.png        Z9\n",
      "13130    Z9_N31_0001_1_1_2.png    Z9_N31\n",
      "13131    Z9_N31_0001_3_1_2.png    Z9_N31\n",
      "13132  Z9_Z1_A1_0001_1_1_4.png  Z9_Z1_A1\n",
      "\n",
      "[13133 rows x 2 columns]>\n"
     ]
    }
   ],
   "source": [
    "# make new column of sign codes\n",
    "glyph_vec = []\n",
    "\n",
    "for count, filename in enumerate(datalist_raw):\n",
    "        position = filename.index('_0') # gets position of the _0 in the filename\n",
    "        value = filename[0:position]\n",
    "        glyph_vec.append(value)\n",
    "\n",
    "glyph_vec = pd.DataFrame(glyph_vec)\n",
    "\n",
    "datalist['SignCode'] = glyph_vec\n",
    "\n",
    "print(datalist.head)"
   ]
  },
  {
   "cell_type": "code",
   "execution_count": 5,
   "id": "b4487f58",
   "metadata": {},
   "outputs": [
    {
     "name": "stdout",
     "output_type": "stream",
     "text": [
      "<bound method NDFrame.head of                          Image  SignCode  AspectRatio\n",
      "0           A12_0001_1_1_4.png       A12     0.756477\n",
      "1           A12_0001_1_1_5.png       A12     0.656250\n",
      "2           A12_0001_2_4_1.png       A12     0.630435\n",
      "3           A12_0001_3_4_1.png       A12     0.670922\n",
      "4           A12_0002_1_1_5.png       A12     0.698276\n",
      "...                        ...       ...          ...\n",
      "13128        Z9_0006_3_4_1.png        Z9     1.574219\n",
      "13129        Z9_0007_1_2_7.png        Z9     1.433333\n",
      "13130    Z9_N31_0001_1_1_2.png    Z9_N31     0.727848\n",
      "13131    Z9_N31_0001_3_1_2.png    Z9_N31     0.715556\n",
      "13132  Z9_Z1_A1_0001_1_1_4.png  Z9_Z1_A1     2.100000\n",
      "\n",
      "[13133 rows x 3 columns]>\n"
     ]
    }
   ],
   "source": [
    "# find aspect ratio and save it in file\n",
    "aspect_ratio = [] \n",
    "\n",
    "for count, filename in enumerate(datalist_raw):\n",
    "    image = Image.open(dataset + filename)\n",
    "    width, height = image.size\n",
    "    ratio = height / width\n",
    "    aspect_ratio.append(ratio)\n",
    "\n",
    "aspect_ratio = pd.DataFrame(aspect_ratio)\n",
    "datalist['AspectRatio'] = aspect_ratio\n",
    "\n",
    "print(datalist.head)"
   ]
  },
  {
   "cell_type": "code",
   "execution_count": 6,
   "id": "8f4f95cf",
   "metadata": {},
   "outputs": [],
   "source": [
    "# save master list as a .csv\n",
    "datalist.to_csv('/Users/.../datasetstats.csv')"
   ]
  },
  {
   "cell_type": "markdown",
   "id": "67de1d8a",
   "metadata": {},
   "source": [
    "# Resizing images and saving pixel values for master dataset"
   ]
  },
  {
   "cell_type": "code",
   "execution_count": 7,
   "id": "1178ca11",
   "metadata": {},
   "outputs": [],
   "source": [
    "def main():\n",
    "    \n",
    "    folder = sorted(os.listdir(dataset))\n",
    "    if '.DS_Store' in filename:\n",
    "        filename.remove('.DS_Store')\n",
    "    glyph_vec = [] \n",
    "    master_pxls = np.zeros(size*size)\n",
    "    \n",
    "    for count, filename in enumerate(folder):\n",
    "        \n",
    "        image = Image.open(dataset + filename)\n",
    "        im = image.resize((size,size))\n",
    "        pxls = np.zeros(size*size)\n",
    "        d = 0\n",
    "        for i in range(size):\n",
    "            for j in range(size):\n",
    "                l,m,n,o = im.getpixel((j, i))\n",
    "                if l > 127.5:\n",
    "                    pxls[d] = 255\n",
    "                if l < 127.5:\n",
    "                    pxls[d] = 0\n",
    "                d += 1\n",
    "        master_pxls = np.vstack((master_pxls,pxls))\n",
    "        \n",
    "        position = filename.index('.') # gets position of the _00 in the filename\n",
    "        value = filename[0:position]\n",
    "        glyph_vec.append(value)\n",
    "    \n",
    "    master_pxls = np.delete(master_pxls, (0), axis=0)\n",
    "    \n",
    "    glyph_vec = pd.DataFrame(glyph_vec)\n",
    "    master_pxls_df = pd.DataFrame(master_pxls)\n",
    "    \n",
    "    pxls_labled = pd.concat([glyph_vec, master_pxls_df], axis=1)\n",
    "    pxls_labled.to_csv('/Users/.../pxls_' + str(size) + '.csv')"
   ]
  },
  {
   "cell_type": "code",
   "execution_count": 8,
   "id": "c9b3a0df",
   "metadata": {},
   "outputs": [],
   "source": [
    "dataset = '/Users/.../' # the whole data set (\"Dataset Whole\")\n",
    "size = 20\n",
    "\n",
    "if __name__ == '__main__':\n",
    "    # Calling main() function\n",
    "    main()"
   ]
  }
 ],
 "metadata": {
  "kernelspec": {
   "display_name": "Python 3 (ipykernel)",
   "language": "python",
   "name": "python3"
  },
  "language_info": {
   "codemirror_mode": {
    "name": "ipython",
    "version": 3
   },
   "file_extension": ".py",
   "mimetype": "text/x-python",
   "name": "python",
   "nbconvert_exporter": "python",
   "pygments_lexer": "ipython3",
   "version": "3.8.8"
  }
 },
 "nbformat": 4,
 "nbformat_minor": 5
}
